{
 "cells": [
  {
   "cell_type": "markdown",
   "id": "f1f04458",
   "metadata": {},
   "source": [
    "# Retail EDA Analysis\n",
    "This notebook contains EDA for Retail Business Performance project."
   ]
  },
  {
   "cell_type": "code",
   "execution_count": null,
   "id": "849bf57a",
   "metadata": {},
   "outputs": [],
   "source": [
    "import pandas as pd\n",
    "import seaborn as sns\n",
    "import matplotlib.pyplot as plt"
   ]
  },
  {
   "cell_type": "code",
   "execution_count": null,
   "id": "8292c4c4",
   "metadata": {},
   "outputs": [],
   "source": [
    "# Sample data for analysis\n",
    "data = {\n",
    "    'Category': ['Furniture', 'Technology', 'Office Supplies', 'Furniture', 'Technology'],\n",
    "    'Sub-Category': ['Chairs', 'Phones', 'Binders', 'Tables', 'Accessories'],\n",
    "    'Sales': [500, 1200, 300, 450, 850],\n",
    "    'Profit': [50, 300, 40, -10, 120],\n",
    "    'Inventory_Days': [60, 20, 45, 90, 25]\n",
    "}\n",
    "df = pd.DataFrame(data)\n",
    "df.head()"
   ]
  },
  {
   "cell_type": "code",
   "execution_count": null,
   "id": "f3653bf5",
   "metadata": {},
   "outputs": [],
   "source": [
    "# Summary statistics\n",
    "df.describe()"
   ]
  },
  {
   "cell_type": "code",
   "execution_count": null,
   "id": "ea3a22bf",
   "metadata": {},
   "outputs": [],
   "source": [
    "# Correlation matrix\n",
    "correlation = df[['Sales', 'Profit', 'Inventory_Days']].corr()\n",
    "correlation"
   ]
  },
  {
   "cell_type": "code",
   "execution_count": null,
   "id": "54f7cd63",
   "metadata": {},
   "outputs": [],
   "source": [
    "# Heatmap\n",
    "plt.figure(figsize=(8, 6))\n",
    "sns.heatmap(correlation, annot=True, cmap='coolwarm')\n",
    "plt.title('Correlation Matrix: Sales, Profit, Inventory Days')\n",
    "plt.show()"
   ]
  }
 ],
 "metadata": {},
 "nbformat": 4,
 "nbformat_minor": 5
}